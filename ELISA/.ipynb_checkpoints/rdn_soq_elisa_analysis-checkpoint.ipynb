{
 "cells": [
  {
   "cell_type": "code",
   "execution_count": 3,
   "id": "a827e821-d005-4989-a7ce-eaadd60cdc3b",
   "metadata": {},
   "outputs": [],
   "source": [
    "import pandas as pd\n",
    "import matplotlib.pyplot as plt\n",
    "import glob\n",
    "from math import log2\n",
    "\n",
    "from helpers import mpl_plotting_helpers as mph\n",
    "from helpers import stats_helpers as sh\n",
    "from helpers import general_helpers as gh"
   ]
  },
  {
   "cell_type": "code",
   "execution_count": 9,
   "id": "82f0044f-d9ab-4cae-8ff1-df4f29cea3bd",
   "metadata": {},
   "outputs": [
    {
     "name": "stdout",
     "output_type": "stream",
     "text": [
      "['./ab_elisa.xls', './car_elisa.xls', './t2kb_elisa.xls']\n"
     ]
    }
   ],
   "source": [
    "# values here are just the sample IDs in my notes\n",
    "conditions = {\"DMSO unstim\" : [1,2,3],\n",
    "              \"DMSO stim\" : [4,5,6],\n",
    "              \"0.1 uM RDN unstim\" : [7,8,9],\n",
    "              \"0.1 uM RDN stim\" : [10,11,12],\n",
    "              \"1 uM RDN unstim\" : [13,14,15],\n",
    "              \"1 uM RDN stim\" : [16,17,18],\n",
    "              \"10 uM RDN unstim\" : [19,20,21],\n",
    "              \"10 uM RDN stim\" : [22,23,24],\n",
    "              \"0.1 uM Soq unstim\" : [25,26,27],\n",
    "              \"0.1 uM Soq stim\" : [28,29,30],\n",
    "              \"1 uM Soq unstim\" : [31,32,33],\n",
    "              \"1 uM Soq stim\" : [34,35,36],\n",
    "              \"10 uM Soq unstim\" : [37,38,39],\n",
    "              \"10 uM Soq stim\" : [40,41,42],}\n",
    "\n",
    "files = [ f for f in glob.glob(\"./*.xls\") if \"aggregate\" not in f]\n",
    "print(files)\n",
    "outfile_pdfs = [\"figs\" + f.split(\".\")[1] + \"_all.pdf\" for f in files]\n",
    "outfile_stat = [\"stats\" + f.split(\".\")[1] + \"_all_stat\" for f in files]"
   ]
  },
  {
   "cell_type": "code",
   "execution_count": 5,
   "id": "011cb5d2-02c0-40d9-a56b-30484db3fae2",
   "metadata": {},
   "outputs": [],
   "source": [
    "# Most of the work is already done by Flowreada, so I just need\n",
    "# to parse out the conditions from each file\n",
    "\n",
    "def parse_conditions(a_flow_xlsx, \n",
    "                     condition_dict = conditions, # only need the keys here\n",
    "                     flow_col = \"GFP+ CD69+ %\",\n",
    "                     id_col = \"Sample ID\"):\n",
    "    \"\"\"\n",
    "    Using the excel file, grab the two columns of interest and parse them\n",
    "    into a new dictionary with the keys defined in the condition_dict\n",
    "    returns: data_dict in the same shape as the condition_dict\n",
    "    \"\"\"\n",
    "    # Read the Excel sheet as a dataframe and keep only the two cols of interest\n",
    "    flow_df = pd.read_excel(a_flow_xlsx)[[id_col, flow_col]]\n",
    "    # Turn the DF into a list of lists for easy manipulation\n",
    "    flow_data = [list(row) for row in flow_df.to_numpy()]\n",
    "    # Make the empty data dictionary\n",
    "    data_dict = {key : [] for key, value in condition_dict.items()}\n",
    "    # And populate it\n",
    "    for row in flow_data:\n",
    "        # Make the key from the IDs\n",
    "        dd_key = gh.list_to_str(row[0].split(\" \")[:-1],\n",
    "                                delimiter = \" \",\n",
    "                                newline = False)\n",
    "        data_dict[dd_key].append(row[1])\n",
    "    return data_dict\n",
    "    "
   ]
  },
  {
   "cell_type": "code",
   "execution_count": 12,
   "id": "23c33b7d-ecce-42f9-b345-7d1c076f5229",
   "metadata": {},
   "outputs": [],
   "source": [
    "# Since we're relying on Floreada for most of the backend, this is actually pretty easy meow\n",
    "data = [parse_conditions(f, \n",
    "                         condition_dict = conditions,\n",
    "                         flow_col = \"IL2 pg/mL\",\n",
    "                         id_col = \"Sample ID\") for f in files]\n",
    "\n",
    "ymaxs = [20, 1100, 200]\n",
    "\n",
    "# now we can perform the stats and plot, which is mad easy\n",
    "i=0\n",
    "for d in data:\n",
    "    # This is a dict, we need a list of (ID, [data])\n",
    "    labelled_groups = [[key, value] for key, value in d.items()]\n",
    "    # HolmSidak multiple comparison correction\n",
    "    stats = sh.HolmSidak(*labelled_groups, override = True) # labels = True, alpha = 0.05, no_comp = []\n",
    "    stats.write_output(outfile_stat[i])\n",
    "    # Then we should just be able to plot. We're gonna do one big graph with\n",
    "    # everything on it, which should be fine (in theory, we'll see)\n",
    "    mph.dotplot(labelled_groups, \n",
    "                rotation = 90,\n",
    "                colours = [\"hotpink\", \"hotpink\",\n",
    "                           \"lightskyblue\", \"lightskyblue\",\n",
    "                           \"steelblue\", \"steelblue\",\n",
    "                           \"blue\", \"blue\",\n",
    "                           \"lavender\", \"lavender\",\n",
    "                           \"mediumpurple\", \"mediumpurple\",\n",
    "                           \"indigo\", \"indigo\"],\n",
    "                ylabel = \"IL2 (pg/mL)\",\n",
    "                title = \"Activation induced IL2 expression\",\n",
    "                filename = outfile_pdfs[i],\n",
    "                ymin = 0,\n",
    "                ymax = ymaxs[i],\n",
    "                markersize = 30,\n",
    "                figsize = (5,4),\n",
    "                tick_fontsize = 10,\n",
    "                label_fontsize = 12,\n",
    "                title_fontsize = 12)\n",
    "    i += 1"
   ]
  },
  {
   "cell_type": "code",
   "execution_count": null,
   "id": "eca189ff-1c98-4e60-af35-979e267e11b5",
   "metadata": {},
   "outputs": [],
   "source": [
    "help(mph.dotplot)"
   ]
  },
  {
   "cell_type": "code",
   "execution_count": null,
   "id": "5e0ea30c-cfe9-476c-9ea6-58cb219da6b2",
   "metadata": {},
   "outputs": [],
   "source": [
    "data"
   ]
  },
  {
   "cell_type": "code",
   "execution_count": null,
   "id": "2a9c2033-bd3e-468d-8ab1-50ea04cb586d",
   "metadata": {},
   "outputs": [],
   "source": [
    "outfile_stat"
   ]
  },
  {
   "cell_type": "code",
   "execution_count": null,
   "id": "06e558b6-abcc-464b-980a-1adf8a8ce988",
   "metadata": {},
   "outputs": [],
   "source": []
  }
 ],
 "metadata": {
  "kernelspec": {
   "display_name": "Python 3 (ipykernel)",
   "language": "python",
   "name": "python3"
  },
  "language_info": {
   "codemirror_mode": {
    "name": "ipython",
    "version": 3
   },
   "file_extension": ".py",
   "mimetype": "text/x-python",
   "name": "python",
   "nbconvert_exporter": "python",
   "pygments_lexer": "ipython3",
   "version": "3.12.3"
  }
 },
 "nbformat": 4,
 "nbformat_minor": 5
}
